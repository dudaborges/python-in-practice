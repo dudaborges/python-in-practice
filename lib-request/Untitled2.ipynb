{
 "cells": [
  {
   "cell_type": "code",
   "execution_count": 15,
   "id": "1b5adff8",
   "metadata": {},
   "outputs": [
    {
     "name": "stdout",
     "output_type": "stream",
     "text": [
      "{'USDBRL': {'code': 'USD', 'codein': 'BRL', 'name': 'Dólar Americano/Real Brasileiro', 'high': '4.9426', 'low': '4.9415', 'varBid': '0.0002', 'pctChange': '0.01', 'bid': '4.9413', 'ask': '4.9418', 'timestamp': '1681771402', 'create_date': '2023-04-17 19:43:22'}, 'EURBRL': {'code': 'EUR', 'codein': 'BRL', 'name': 'Euro/Real Brasileiro', 'high': '5.4008', 'low': '5.3981', 'varBid': '0.001', 'pctChange': '0.02', 'bid': '5.3994', 'ask': '5.4004', 'timestamp': '1681771402', 'create_date': '2023-04-17 19:43:22'}, 'BTCBRL': {'code': 'BTC', 'codein': 'BRL', 'name': 'Bitcoin/Real Brasileiro', 'high': '151283', 'low': '146326', 'varBid': '-4411', 'pctChange': '-2.92', 'bid': '146807', 'ask': '146807', 'timestamp': '1681771320', 'create_date': '2023-04-17 19:42:00'}}\n"
     ]
    }
   ],
   "source": [
    "import requests\n",
    "\n",
    "requisicao = requests.get(\"https://economia.awesomeapi.com.br/last/USD-BRL,EUR-BRL,BTC-BRL\")\n",
    "print(requisicao.json())"
   ]
  }
 ],
 "metadata": {
  "kernelspec": {
   "display_name": "Python 3",
   "language": "python",
   "name": "python3"
  },
  "language_info": {
   "codemirror_mode": {
    "name": "ipython",
    "version": 3
   },
   "file_extension": ".py",
   "mimetype": "text/x-python",
   "name": "python",
   "nbconvert_exporter": "python",
   "pygments_lexer": "ipython3",
   "version": "3.10.11 (tags/v3.10.11:7d4cc5a, Apr  5 2023, 00:38:17) [MSC v.1929 64 bit (AMD64)]"
  },
  "vscode": {
   "interpreter": {
    "hash": "1d6a091dc78b6d5907c638ba0ce14ea5c2ec49ebadf5721bb39eb406c1a37121"
   }
  }
 },
 "nbformat": 4,
 "nbformat_minor": 5
}
