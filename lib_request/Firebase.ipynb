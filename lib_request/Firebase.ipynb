{
 "cells": [
  {
   "cell_type": "code",
   "execution_count": 1,
   "id": "5dd691a2",
   "metadata": {},
   "outputs": [
    {
     "name": "stdout",
     "output_type": "stream",
     "text": [
      "<Response [200]>\n"
     ]
    }
   ],
   "source": [
    "import requests\n",
    "request = requests.get('https://requests-16843-default-rtdb.firebaseio.com/')\n",
    "print(request)"
   ]
  },
  {
   "cell_type": "code",
   "execution_count": 46,
   "id": "e4d3b1ff",
   "metadata": {},
   "outputs": [
    {
     "name": "stdout",
     "output_type": "stream",
     "text": [
      "{'-NTPd4KHhturVzDWHy14': {'teste': 'teste'}, '-NTPd5Q-pxc2o1FBd31p': {'Nome': 'Jos�'}}\n"
     ]
    }
   ],
   "source": [
    "import requests \n",
    "request = requests.get('https://requests-16843-default-rtdb.firebaseio.com/.json')\n",
    "print(request.json())"
   ]
  },
  {
   "cell_type": "code",
   "execution_count": 20,
   "id": "231f93cf",
   "metadata": {},
   "outputs": [
    {
     "name": "stdout",
     "output_type": "stream",
     "text": [
      "None\n"
     ]
    }
   ],
   "source": [
    "import requests \n",
    "request = requests.delete('https://requests-16843-default-rtdb.firebaseio.com/teste.json')\n",
    "print(request.json())"
   ]
  },
  {
   "cell_type": "code",
   "execution_count": 18,
   "id": "81fb06bc",
   "metadata": {},
   "outputs": [
    {
     "name": "stdout",
     "output_type": "stream",
     "text": [
      "{'name': '-NTPd5Q-pxc2o1FBd31p'}\n"
     ]
    }
   ],
   "source": [
    "import requests\n",
    "request = requests.post('https://requests-16843-default-rtdb.firebaseio.com/.json', data='{\"Nome\": \"José\"}')\n",
    "print(request.json())"
   ]
  },
  {
   "cell_type": "code",
   "execution_count": 31,
   "id": "84635523",
   "metadata": {},
   "outputs": [
    {
     "name": "stdout",
     "output_type": "stream",
     "text": [
      "{'teste': 'teste'}\n"
     ]
    }
   ],
   "source": [
    "import requests\n",
    "request = requests.put('https://requests-16843-default-rtdb.firebaseio.com/-NTPd4KHhturVzDWHy14.json', data='{\"teste\": \"teste\"}')\n",
    "print(request.json())"
   ]
  },
  {
   "cell_type": "code",
   "execution_count": 29,
   "id": "ec5330ed",
   "metadata": {},
   "outputs": [
    {
     "name": "stdout",
     "output_type": "stream",
     "text": [
      "{'Idade': '17'}\n"
     ]
    }
   ],
   "source": [
    "import requests\n",
    "request = requests.patch('https://requests-16843-default-rtdb.firebaseio.com/-NTPd4KHhturVzDWHy14.json', data = '{\"Idade\": \"17\"}')\n",
    "print(request.json())"
   ]
  },
  {
   "cell_type": "code",
   "execution_count": 49,
   "id": "7cd5f82a",
   "metadata": {},
   "outputs": [
    {
     "name": "stdout",
     "output_type": "stream",
     "text": [
      "<Response [200]>\n"
     ]
    }
   ],
   "source": [
    "import requests \n",
    "request = requests.options('https://requests-16843-default-rtdb.firebaseio.com/-NTPd4KHhturVzDWHy14.json')\n",
    "print(request)"
   ]
  },
  {
   "cell_type": "code",
   "execution_count": 65,
   "id": "5b8fc7b3",
   "metadata": {},
   "outputs": [
    {
     "name": "stdout",
     "output_type": "stream",
     "text": [
      "{\"name\":\"-NTPrc7QW3l65N5Lw8Ix\"}\n"
     ]
    }
   ],
   "source": [
    "import requests \n",
    "\n",
    "# maria = '[{\"Nome:\": \"Maria\", \"Turma\": \"Palhoca\", \"Idade\": \"23\"}]'\n",
    "maria = '[{\"Nome:\": \"Maria\"}, {\"Nome:\": \"José\"}]'\n",
    "request = requests.post('https://requests-16843-default-rtdb.firebaseio.com/.json', data=maria)\n",
    "print(request.text)"
   ]
  },
  {
   "cell_type": "code",
   "execution_count": null,
   "id": "b7b5acc7",
   "metadata": {},
   "outputs": [],
   "source": []
  }
 ],
 "metadata": {
  "kernelspec": {
   "display_name": "Python 3 (ipykernel)",
   "language": "python",
   "name": "python3"
  },
  "language_info": {
   "codemirror_mode": {
    "name": "ipython",
    "version": 3
   },
   "file_extension": ".py",
   "mimetype": "text/x-python",
   "name": "python",
   "nbconvert_exporter": "python",
   "pygments_lexer": "ipython3",
   "version": "3.10.9"
  }
 },
 "nbformat": 4,
 "nbformat_minor": 5
}
